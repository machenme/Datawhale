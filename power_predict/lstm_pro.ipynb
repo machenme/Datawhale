{
 "cells": [
  {
   "cell_type": "code",
   "execution_count": 1,
   "metadata": {},
   "outputs": [],
   "source": [
    "import pandas as pd\n",
    "import numpy as np\n",
    "import torch\n",
    "from torch.utils.data import Dataset, DataLoader\n",
    "from torch import nn, optim\n",
    "import torch.nn.functional as F\n",
    "\n",
    "train = pd.read_csv(\"./dataset/train.csv\")\n",
    "test = pd.read_csv(\"./dataset/test.csv\")"
   ]
  },
  {
   "cell_type": "code",
   "execution_count": 13,
   "metadata": {},
   "outputs": [
    {
     "data": {
      "text/html": [
       "<div>\n",
       "<style scoped>\n",
       "    .dataframe tbody tr th:only-of-type {\n",
       "        vertical-align: middle;\n",
       "    }\n",
       "\n",
       "    .dataframe tbody tr th {\n",
       "        vertical-align: top;\n",
       "    }\n",
       "\n",
       "    .dataframe thead th {\n",
       "        text-align: right;\n",
       "    }\n",
       "</style>\n",
       "<table border=\"1\" class=\"dataframe\">\n",
       "  <thead>\n",
       "    <tr style=\"text-align: right;\">\n",
       "      <th></th>\n",
       "      <th>id</th>\n",
       "      <th>dt</th>\n",
       "      <th>type</th>\n",
       "      <th>target</th>\n",
       "    </tr>\n",
       "  </thead>\n",
       "  <tbody>\n",
       "    <tr>\n",
       "      <th>0</th>\n",
       "      <td>00037f39cf</td>\n",
       "      <td>11</td>\n",
       "      <td>2</td>\n",
       "      <td>44.050</td>\n",
       "    </tr>\n",
       "    <tr>\n",
       "      <th>1</th>\n",
       "      <td>00037f39cf</td>\n",
       "      <td>12</td>\n",
       "      <td>2</td>\n",
       "      <td>50.672</td>\n",
       "    </tr>\n",
       "    <tr>\n",
       "      <th>2</th>\n",
       "      <td>00037f39cf</td>\n",
       "      <td>13</td>\n",
       "      <td>2</td>\n",
       "      <td>39.042</td>\n",
       "    </tr>\n",
       "    <tr>\n",
       "      <th>3</th>\n",
       "      <td>00037f39cf</td>\n",
       "      <td>14</td>\n",
       "      <td>2</td>\n",
       "      <td>35.900</td>\n",
       "    </tr>\n",
       "    <tr>\n",
       "      <th>4</th>\n",
       "      <td>00037f39cf</td>\n",
       "      <td>15</td>\n",
       "      <td>2</td>\n",
       "      <td>53.888</td>\n",
       "    </tr>\n",
       "  </tbody>\n",
       "</table>\n",
       "</div>"
      ],
      "text/plain": [
       "           id  dt  type  target\n",
       "0  00037f39cf  11     2  44.050\n",
       "1  00037f39cf  12     2  50.672\n",
       "2  00037f39cf  13     2  39.042\n",
       "3  00037f39cf  14     2  35.900\n",
       "4  00037f39cf  15     2  53.888"
      ]
     },
     "execution_count": 13,
     "metadata": {},
     "output_type": "execute_result"
    }
   ],
   "source": [
    "train.head()"
   ]
  },
  {
   "cell_type": "code",
   "execution_count": 14,
   "metadata": {},
   "outputs": [],
   "source": [
    "grouped_data = train.groupby(['id'])"
   ]
  },
  {
   "cell_type": "code",
   "execution_count": 16,
   "metadata": {},
   "outputs": [
    {
     "data": {
      "text/html": [
       "<div>\n",
       "<style scoped>\n",
       "    .dataframe tbody tr th:only-of-type {\n",
       "        vertical-align: middle;\n",
       "    }\n",
       "\n",
       "    .dataframe tbody tr th {\n",
       "        vertical-align: top;\n",
       "    }\n",
       "\n",
       "    .dataframe thead th {\n",
       "        text-align: right;\n",
       "    }\n",
       "</style>\n",
       "<table border=\"1\" class=\"dataframe\">\n",
       "  <thead>\n",
       "    <tr style=\"text-align: right;\">\n",
       "      <th></th>\n",
       "      <th>target</th>\n",
       "    </tr>\n",
       "    <tr>\n",
       "      <th>id</th>\n",
       "      <th></th>\n",
       "    </tr>\n",
       "  </thead>\n",
       "  <tbody>\n",
       "    <tr>\n",
       "      <th>00037f39cf</th>\n",
       "      <td>496</td>\n",
       "    </tr>\n",
       "    <tr>\n",
       "      <th>00039a1517</th>\n",
       "      <td>496</td>\n",
       "    </tr>\n",
       "    <tr>\n",
       "      <th>000c15d0ea</th>\n",
       "      <td>496</td>\n",
       "    </tr>\n",
       "    <tr>\n",
       "      <th>00150bc11a</th>\n",
       "      <td>496</td>\n",
       "    </tr>\n",
       "    <tr>\n",
       "      <th>0038d86077</th>\n",
       "      <td>496</td>\n",
       "    </tr>\n",
       "    <tr>\n",
       "      <th>...</th>\n",
       "      <td>...</td>\n",
       "    </tr>\n",
       "    <tr>\n",
       "      <th>ffe1c50bbb</th>\n",
       "      <td>496</td>\n",
       "    </tr>\n",
       "    <tr>\n",
       "      <th>ffe8cdb524</th>\n",
       "      <td>496</td>\n",
       "    </tr>\n",
       "    <tr>\n",
       "      <th>fff62c78fb</th>\n",
       "      <td>496</td>\n",
       "    </tr>\n",
       "    <tr>\n",
       "      <th>fff6d685ea</th>\n",
       "      <td>495</td>\n",
       "    </tr>\n",
       "    <tr>\n",
       "      <th>fff81139a7</th>\n",
       "      <td>496</td>\n",
       "    </tr>\n",
       "  </tbody>\n",
       "</table>\n",
       "<p>5832 rows × 1 columns</p>\n",
       "</div>"
      ],
      "text/plain": [
       "            target\n",
       "id                \n",
       "00037f39cf     496\n",
       "00039a1517     496\n",
       "000c15d0ea     496\n",
       "00150bc11a     496\n",
       "0038d86077     496\n",
       "...            ...\n",
       "ffe1c50bbb     496\n",
       "ffe8cdb524     496\n",
       "fff62c78fb     496\n",
       "fff6d685ea     495\n",
       "fff81139a7     496\n",
       "\n",
       "[5832 rows x 1 columns]"
      ]
     },
     "execution_count": 16,
     "metadata": {},
     "output_type": "execute_result"
    }
   ],
   "source": [
    "grouped_data.agg({'target':'count'})"
   ]
  },
  {
   "cell_type": "code",
   "execution_count": 17,
   "metadata": {},
   "outputs": [
    {
     "data": {
      "image/png": "[encoded data removed]",
      "text/plain": [
       "<Figure size 640x480 with 1 Axes>"
      ]
     },
     "metadata": {},
     "output_type": "display_data"
    }
   ],
   "source": [
    "import matplotlib.pyplot as plt\n",
    "plt.plot(grouped_data.agg({\"target\": \"count\"}))\n",
    "plt.show()"
   ]
  },
  {
   "cell_type": "code",
   "execution_count": 2,
   "metadata": {},
   "outputs": [],
   "source": [
    "class TimeSeriesDataset(Dataset):\n",
    "    def __init__(self, df, look_back=100):\n",
    "        self.look_back = look_back\n",
    "        self.data, self.labels, self.oot = self.preprocess_data(df)\n",
    "\n",
    "    def preprocess_data(self, df):\n",
    "        grouped = df.groupby(\"id\")\n",
    "        datasets = {id: group.values for id, group in grouped}\n",
    "\n",
    "        X, Y, OOT = [], [], []\n",
    "        for id, data in datasets.items():\n",
    "            for i in range(10, 15):  # 每个id构建5个序列\n",
    "                a = data[i : (i + self.look_back), 3]\n",
    "                a = np.append(a, np.array([0] * (self.look_back - len(a))))\n",
    "                X.append(a[::-1])\n",
    "                Y.append(data[i - 10 : i, 3][::-1])\n",
    "\n",
    "            a = data[: self.look_back, 3]\n",
    "            a = np.append(a, np.array([0] * (self.look_back - len(a))))\n",
    "            OOT.append(a[::-1])\n",
    "\n",
    "        return (\n",
    "            np.array(X, dtype=np.float64),\n",
    "            np.array(Y, dtype=np.float64),\n",
    "            np.array(OOT, dtype=np.float64),\n",
    "        )\n",
    "\n",
    "    def __len__(self):\n",
    "        return len(self.data)\n",
    "\n",
    "    def __getitem__(self, idx):\n",
    "        X = torch.tensor(self.data[idx], dtype=torch.float32).unsqueeze(1)\n",
    "        Y = torch.tensor(self.labels[idx], dtype=torch.float32)\n",
    "        return X, Y"
   ]
  },
  {
   "cell_type": "code",
   "execution_count": 3,
   "metadata": {},
   "outputs": [],
   "source": [
    "class LSTMModel(nn.Module):\n",
    "    def __init__(self, look_back, n_features, n_output):\n",
    "        super(LSTMModel, self).__init__()\n",
    "        self.lstm = nn.LSTM(input_size=n_features, hidden_size=50, batch_first=True)\n",
    "        self.fc = nn.Linear(50, n_output)\n",
    "\n",
    "    def forward(self, x):\n",
    "        lstm_out, _ = self.lstm(x)\n",
    "        lstm_out = lstm_out[:, -1, :]\n",
    "        out = self.fc(lstm_out)\n",
    "        return out"
   ]
  },
  {
   "cell_type": "code",
   "execution_count": 18,
   "metadata": {},
   "outputs": [
    {
     "name": "stdout",
     "output_type": "stream",
     "text": [
      "Epoch [1/10], Loss: 7626.0488\n",
      "Epoch [2/10], Loss: 1102.5178\n",
      "Epoch [3/10], Loss: 1326.3573\n",
      "Epoch [4/10], Loss: 4722.0962\n",
      "Epoch [5/10], Loss: 1581.6970\n",
      "Epoch [6/10], Loss: 616.9444\n",
      "Epoch [7/10], Loss: 753.5541\n",
      "Epoch [8/10], Loss: 1128.1973\n",
      "Epoch [9/10], Loss: 1172.4291\n",
      "Epoch [10/10], Loss: 1128.8584\n"
     ]
    }
   ],
   "source": [
    "# 定义超参数\n",
    "look_back = 100\n",
    "n_features = 1\n",
    "n_output = 10\n",
    "batch_size = 64\n",
    "epochs = 10\n",
    "learning_rate = 0.001\n",
    "\n",
    "# 创建数据集和数据加载器\n",
    "train_dataset = TimeSeriesDataset(train, look_back=look_back)\n",
    "train_loader = DataLoader(train_dataset, batch_size=batch_size, shuffle=True)\n",
    "\n",
    "# 实例化模型、损失函数和优化器\n",
    "model = LSTMModel(look_back, n_features, n_output)\n",
    "criterion = nn.MSELoss()\n",
    "optimizer = optim.Adam(model.parameters(), lr=learning_rate)\n",
    "\n",
    "# 训练模型\n",
    "model.train()\n",
    "for epoch in range(epochs):\n",
    "    for X, Y in train_loader:\n",
    "        optimizer.zero_grad()\n",
    "        output = model(X)\n",
    "        loss = criterion(output, Y)\n",
    "        loss.backward()\n",
    "        optimizer.step()\n",
    "    print(f\"Epoch [{epoch+1}/{epochs}], Loss: {loss.item():.4f}\")"
   ]
  },
  {
   "cell_type": "code",
   "execution_count": 5,
   "metadata": {},
   "outputs": [],
   "source": [
    "oot_data = torch.tensor(train_dataset.oot, dtype=torch.float32).unsqueeze(2)\n",
    "model.eval()\n",
    "with torch.no_grad():\n",
    "    predicted_values = model(oot_data).numpy()"
   ]
  },
  {
   "cell_type": "code",
   "execution_count": 15,
   "metadata": {},
   "outputs": [],
   "source": [
    "test[\"target\"] = predicted_values.flatten()\n",
    "test[[\"id\", \"dt\", \"target\"]].to_csv(\"submit_lstm.csv\", index=None)"
   ]
  }
 ],
 "metadata": {
  "kernelspec": {
   "display_name": "torch",
   "language": "python",
   "name": "python3"
  },
  "language_info": {
   "codemirror_mode": {
    "name": "ipython",
    "version": 3
   },
   "file_extension": ".py",
   "mimetype": "text/x-python",
   "name": "python",
   "nbconvert_exporter": "python",
   "pygments_lexer": "ipython3",
   "version": "3.11.9"
  }
 },
 "nbformat": 4,
 "nbformat_minor": 2
}
